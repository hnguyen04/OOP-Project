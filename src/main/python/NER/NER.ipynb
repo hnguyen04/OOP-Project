{
  "cells": [
    {
      "cell_type": "markdown",
      "metadata": {
        "id": "wdmKXreIfNKQ"
      },
      "source": [
        "# Named entity recognition with Spacy\n"
      ]
    },
    {
      "cell_type": "markdown",
      "metadata": {},
      "source": [
        "## Download libraries and models"
      ]
    },
    {
      "cell_type": "code",
      "execution_count": 1,
      "metadata": {
        "colab": {
          "base_uri": "https://localhost:8080/",
          "height": 105
        },
        "id": "Uwm4GYsghhpc",
        "outputId": "da7905b2-c024-4f82-f7ba-40401bd6bacf"
      },
      "outputs": [],
      "source": [
        "import numpy as np\n",
        "import pandas as pd\n",
        "import spacy\n",
        "import json\n",
        "import tqdm\n",
        "#https://www.newscatcherapi.com/blog/train-custom-named-entity-recognition-ner-model-with-spacy-v3\n",
        "#https://spacy.io/usage/training#quickstart\n",
        "#ner annotator: 'https://tecoholic.github.io/ner-annotator/'"
      ]
    },
    {
      "cell_type": "markdown",
      "metadata": {},
      "source": [
        "## Load training data "
      ]
    },
    {
      "cell_type": "code",
      "execution_count": 91,
      "metadata": {
        "id": "jqp49JWanuwJ"
      },
      "outputs": [
        {
          "data": {
            "text/plain": [
              "'Last fall Oracle released Blockchain App Builder for Oracle Blockchain platform - a low-code development toolset for Oracle Blockchain Platform to increase the speed of innovation. The App Builder can automatically generate chaincode for basic CRUD methods and persistence APIs from a declarative specification and empowers a blockchain application developer to develop chaincodes faster, deploy and test chaincodes very easily and substantially reduces the number of code defects. Figure 1: Low Code Chaincode Lifecycle Supported by Blockchain App Builder for Oracle Blockchain Platform Then we asked ourselves, what other common building blocks we can help to generate automatically so developers can move even faster? It didn???t take long to recognize that use of tokenization was accelerating and it was becoming a core feature in many innovative blockchain solutions. We???ve decided to expand the App Builder capabilities to support tokenization and released it as part of the version 21.2.3 announced at Hyperledger Global Forum on June 10th. Tokenization is a process where physical or digital assets are represented as tokens that can be created and recorded in a blockchain ledger and transferred between users. Today tokenization is used in multiple industries to represent financial assets, payments, real estate, loyalty points in reward programs, inventory assets, royalties, carbon credits, intellectual property rights, and most lately ??? digital art, collectibles, and IP rights from the world of sports and entertainment using NFTs (Non-Fungible Tokens that uniquely link owner???s identity and rights with a digital media object.) In many innovative business models tokens can be exchanged with fiat currencies or with any other tokens to create value and enable trading in the system. A February 2021 Forrester report, Invent The Future With Asset Tokenization, states: ???Tokenizing an asset makes it trackable, increases its utility, and supports automation. Blockchain-based tokens go beyond representing assets in a digitized format. Because tokens are programmable, they can be entirely self-describing, which means that they can include the attributes, rights, and obligations pertaining to the asset, as well as the rules that apply to it. And because they run on blockchain- or DLT-based systems, the tokens benefit from the way in which these networks support multiparty processes around trusted, tamper-resistant, and tamper-evident data. From a technical perspective, this makes it possible to 1) track the asset; 2) ensure that nobody can perform operations on the asset that are prohibited; and 3) transfer ownership of, or rights to, the asset provably and securely. From a business perspective, tokenized assets not only lead to process efficiencies and other benefits like fraud reduction; they also create an opportunity for complete multiparty process redesign and new business models.??? Some blockchain networks have built-in token mechanisms and exchange APIs, e.g., the well-known Ethereum???s ERC-20, ERC-721, and more recent ERC-1155 token contracts. In other blockchain frameworks that do not have a built-in token mechanism, like Hyperledger Fabric, tokens can be added at an application layer as smart contracts. However, building the framework for managing the complete token lifecycle requires expertise and is time consuming to develop from scratch. And in order to make this re-useable you also need to define a cohesive meta-model of token properties and behaviors that???s sufficiently generic to support a broad range of use cases. Blockchain App Builder addresses these challenges by leveraging the InterWork Alliance???s (IWA) open source Token Taxonomy Framework (TTF) meta-model and creating a robust Token SDK, then adding a token lifecycle abstraction layer supported by a comprehensive Token API with more than 30 user-accessible methods. Using TTF enables an inter-operable token model that can support fungible and non-fungible tokens with TTF-defined standard behaviors that are implemented as token SDK methods. In true low-code manner, all the user has to do is tailor a declarative specification file to their needs and we automatically generate the SDK plus the token lifecycle abstraction layer with its APIs. Figure 2: Sample Token Specification The current release of Blockchain App Builder supports Fungible Token (FT) with following six token behaviors: Divisible Roles Mintable Transferable Holdable Burnable App Builder uses an on-chain account/balance model to represent tokenized assets as balances in an account, which belong to a User Identity under an Organization ID. To ensure security, in the present release you can assign three token roles - minter, burner & notary (escrow), which enables access control for these operations. Application developers can also define custom attributes for the token asset and declare any custom methods in the specification file, which can be implemented as custom business logic using the Token API. To improve scalability of account updates in Hyperledger Fabric, we???ve optimized the transaction validation process performed by the peer nodes when they receive a new block and commit it to the ledger. Once the specification file has been tailored to your needs, which could be as simple as specifying token name and setting minting quota, a single click generates the Token SDK and the chaincode abstraction layer with a number of methods and APIs used to manage the complete chaincode lifecycle from issuance to transfer and burning. The auto-generated methods have the embedded access control with the capability to auto-identify the callers and check the validity of the requested operations based on the roles assigned. When necessary to identify a counter-party to the transaction, they accept organization id and user id as input parameters. Figure 3: Auto-Generated Token Abstraction Layer APIs When necessary, you can add custom methods using these APIs to implement a wide range of tokenization applications. Your custom logic can mix the token asset with the non-token assets or use multiple tokens for different purposes. With a few more clicks you can deploy the generated chaincode package with any custom methods added to an Oracle Blockchain Platform running as Cloud Service in OCI or Enterprise Edition on-premises, and start testing and using the tokenization framework. Remember, this is tailored based on your specification file, and like any App Builder generated chaincode can be easily updated and re-deployed when you edit the specification. Figure 4: Oracle Blockchain Tokenization Framework on Top of Hyperledger Fabric While the Token SDK and the generated APIs are very comprehensive, the use of this framework follows a simple Token lifecycle model consisting of token/accounts setup steps followed by regular token operations: mint, transfer, hold/release, and burn as shown below. Figure 5: Token Lifecycle - Set-up and Operations Steps Let???s illustrate how this lifecycle can be used to support an airline loyalty program based on an example of a Utopian Airlines awarding their frequent flyer, Michael Greg, some frequent flyer points, which he will then redeem for a car rental with Fast Travels rental company. The administrator sets up the token system by initializing the tokens, creating initial set of accounts and adding roles, making an accounts manager at the airline, UtopianMgr, an authorized minter, who can issue tokens. UtopianMgr issues (mints) a tranche of tokens and transfers some amount to a frequent flyer, MGTraveler, probably using an ERP system that manages the rewards to trigger the smart contract API. Michael Greg, the traveler, uses his Utopian Airlines mobile app to make a car reservation with a car rental company, Fast Travels, that is a partner in this loyalty system and as part of the reservation confirmation transfers some tokens to their partner account. Finally, Fast Travels accounts receivables manager reconciles their accumulated points for a payment from Utopian Airlines and in the process burns tokens accumulated in their account. Figure 6: Airline Loyalty Program Example Using OBP Token Methods/APIs This is one of many examples that can be quickly enabled by the tokenization support on Oracle Blockchain Platform. This feature is also being quickly adopted in a number of customer and partner projects, such as: Certified supply chain tracking and royalty accruals for patented technology Freight transportation management Central Bank digital currency Data collection from CNC machines with rewards program Rewards implementations in consumer-focused NFT marketplaces The tokenization feature in Blockchain App Builder fosters the token economy and enables faster realization of innovative business models. Its simplicity ensures that the developers can easily generate the token chaincode without any specialized skills, while also making the maintenance of the complete token life cycle very easy. We believe in empowering the developers by making the tokenization feature quick and simple to use, while leveraging the emerging tokenization standards to foster interoperability and providing a secure, comprehensive solution for use by enterprises and beyond. If this sounds interesting, please check out our webcast ??? ???Hyperledger In-depth: An hour with Oracle: Enabling Tokenization Options on Hyperledger Fabric??? This is now available in replay - please visit https://www.hyperledger.org/learn/webinars/hyperledger-in-depth-an-hour-with-oracle-enabling-tokenization-options-on-hyperledger-fabric or it can also be accessed on youtube at https://www.youtube.com/watch?v=LEb5lC4JTD4. On the horizon are features to simplify exchange among different tokens on Oracle blockchain and exchanges with other tokens, support integration with payment gateways, increase scalability through sharding, and enable non-fungible tokens. Meanwhile, you might ask can these tokens be exchanged with some other tokens on a public blockchain, like Ethereum. In the next post, we???ll show you how. We welcome your questions / comments in the feedback section.\\r'"
            ]
          },
          "execution_count": 91,
          "metadata": {},
          "output_type": "execute_result"
        }
      ],
      "source": [
        "with open(\"annotations.json\", \"r\") as rf:\n",
        "    trainingData = json.load(rf)\n",
        "trainingData['annotations'][1]['text']"
      ]
    },
    {
      "cell_type": "markdown",
      "metadata": {},
      "source": [
        "## Load model"
      ]
    },
    {
      "cell_type": "code",
      "execution_count": 92,
      "metadata": {
        "id": "xU9_lpA-gX-a"
      },
      "outputs": [],
      "source": [
        "from spacy.tokens import DocBin\n",
        "from tqdm import tqdm\n",
        "\n",
        "nlp = spacy.blank(\"en\") # load a new spacy model\n",
        "doc_bin = DocBin() # create a DocBin object"
      ]
    },
    {
      "cell_type": "code",
      "execution_count": 93,
      "metadata": {
        "id": "6RjBTLtS7Mha"
      },
      "outputs": [],
      "source": [
        "from spacy.util import filter_spans"
      ]
    },
    {
      "cell_type": "code",
      "execution_count": 99,
      "metadata": {},
      "outputs": [
        {
          "name": "stderr",
          "output_type": "stream",
          "text": [
            "100%|██████████| 4/4 [00:00<00:00,  8.99it/s]\n"
          ]
        },
        {
          "name": "stdout",
          "output_type": "stream",
          "text": [
            "Skipping entity\n",
            "TLC:ORG\n",
            "Skipping entity\n",
            "cryptotrading:BLOCKCHAIN_TECH\n"
          ]
        }
      ],
      "source": [
        "for training_example  in tqdm(trainingData['annotations']): \n",
        "    text = training_example['text']\n",
        "    labels = training_example['entities']\n",
        "    doc = nlp.make_doc(text) \n",
        "    ents = []\n",
        "    for start, end, label in labels:\n",
        "        span = doc.char_span(start, end, label=label, alignment_mode=\"contract\")\n",
        "        if span is None:\n",
        "            print(\"Skipping entity\") \n",
        "            print(text[start:end] +\":\" + label)\n",
        "        else:\n",
        "            ents.append(span)\n",
        "    filtered_ents = filter_spans(ents)\n",
        "    doc.ents = filtered_ents \n",
        "    doc_bin.add(doc)\n",
        "\n",
        "doc_bin.to_disk(\"trainingData.spacy\") # save the docbin object"
      ]
    },
    {
      "cell_type": "markdown",
      "metadata": {},
      "source": [
        "## Train model by terminal"
      ]
    },
    {
      "cell_type": "code",
      "execution_count": 118,
      "metadata": {
        "colab": {
          "base_uri": "https://localhost:8080/"
        },
        "id": "ogUeByN273Wx",
        "outputId": "aaef8c46-322b-4e5a-dc13-7ca482f6d7eb"
      },
      "outputs": [
        {
          "name": "stdout",
          "output_type": "stream",
          "text": [
            "\u001b[38;5;2m✔ Auto-filled config with all values\u001b[0m\n",
            "\u001b[38;5;2m✔ Saved config\u001b[0m\n",
            "config.cfg\n",
            "You can now add your data and train your pipeline:\n",
            "python -m spacy train config.cfg --paths.train ./train.spacy --paths.dev ./dev.spacy\n"
          ]
        }
      ],
      "source": [
        "!python -m spacy init fill-config base_config.cfg config.cfg"
      ]
    },
    {
      "cell_type": "code",
      "execution_count": 101,
      "metadata": {},
      "outputs": [
        {
          "name": "stdout",
          "output_type": "stream",
          "text": [
            "The code is running on GPU\n"
          ]
        }
      ],
      "source": [
        "import torch\n",
        "if torch.cuda.is_available():\n",
        "    print(\"The code is running on GPU\")\n",
        "else:\n",
        "    print(\"The code is running on CPU\")"
      ]
    },
    {
      "cell_type": "code",
      "execution_count": 121,
      "metadata": {
        "colab": {
          "base_uri": "https://localhost:8080/",
          "height": 176
        },
        "id": "TP0Wzzps8S-X",
        "outputId": "8c4edd1c-f2df-4734-e0ff-f051e5b9ed7b"
      },
      "outputs": [
        {
          "name": "stdout",
          "output_type": "stream",
          "text": [
            "\u001b[38;5;4mℹ Saving to output directory: .\u001b[0m\n",
            "\u001b[38;5;4mℹ Using CPU\u001b[0m\n",
            "\u001b[1m\n",
            "=========================== Initializing pipeline ===========================\u001b[0m\n",
            "\u001b[38;5;2m✔ Initialized pipeline\u001b[0m\n",
            "\u001b[1m\n",
            "============================= Training pipeline =============================\u001b[0m\n",
            "\u001b[38;5;4mℹ Pipeline: ['tok2vec', 'ner']\u001b[0m\n",
            "\u001b[38;5;4mℹ Initial learn rate: 0.001\u001b[0m\n",
            "E    #       LOSS TOK2VEC  LOSS NER  ENTS_F  ENTS_P  ENTS_R  SCORE \n",
            "---  ------  ------------  --------  ------  ------  ------  ------\n",
            "  0       0          0.00   2795.50    0.00    0.00    0.00    0.00\n",
            " 12     200       7703.25  109428.00   90.71   91.58   89.86    0.91\n",
            " 25     400       4891.52  13264.02   99.06   98.80   99.33    0.99\n",
            " 37     600       3558.79   4407.48   99.60   99.27   99.93    1.00\n",
            "\u001b[38;5;2m✔ Saved pipeline to output directory\u001b[0m\n",
            "model-last\n"
          ]
        }
      ],
      "source": [
        "!python -m spacy train config.cfg --output ./ --paths.train ./trainingData.spacy --paths.dev ./trainingData.spacy --training.max_epochs 50 --training.dropout 0.15 --training.max_steps 1200"
      ]
    },
    {
      "cell_type": "markdown",
      "metadata": {},
      "source": [
        "## Test new model "
      ]
    },
    {
      "cell_type": "code",
      "execution_count": 122,
      "metadata": {
        "id": "xxWq49wM-6fq"
      },
      "outputs": [],
      "source": [
        "nlp_ner = spacy.load(\"model-best\")"
      ]
    },
    {
      "cell_type": "code",
      "execution_count": 125,
      "metadata": {},
      "outputs": [
        {
          "data": {
            "text/html": [
              "<span class=\"tex2jax_ignore\"><div class=\"entities\" style=\"line-height: 2.5; direction: ltr\">Enhance enterprise data security and trust: Must see Blockchain Technology sessions at Oracle CloudWorld 2023 August 21, 2023 | 3 minute read  Kiran Makarla Product Management / GTM Leader, Oracle Blockchain Platform &amp; Oracle NoSQL Database Services Oracle CloudWorld is coming to Las Vegas on September 18-21, 2023. Oracle Blockchain technology will be featured in multiple sessions, covering product innovations, \n",
              "<mark class=\"entity\" style=\"background: #aa9cfc; padding: 0.45em 0.6em; margin: 0 0.25em; line-height: 1; border-radius: 0.35em;\">\n",
              "    customer\n",
              "    <span style=\"font-size: 0.8em; font-weight: bold; line-height: 1; border-radius: 0.35em; vertical-align: middle; margin-left: 0.5rem\">PERSON</span>\n",
              "</mark>\n",
              " implementations, and live demos. Register today for your access passes  Why \n",
              "<mark class=\"entity\" style=\"background: #ddd; padding: 0.45em 0.6em; margin: 0 0.25em; line-height: 1; border-radius: 0.35em;\">\n",
              "    blockchain\n",
              "    <span style=\"font-size: 0.8em; font-weight: bold; line-height: 1; border-radius: 0.35em; vertical-align: middle; margin-left: 0.5rem\">BLOCKCHAIN_TECH</span>\n",
              "</mark>\n",
              " matters to enterprises?  \n",
              "<mark class=\"entity\" style=\"background: #ddd; padding: 0.45em 0.6em; margin: 0 0.25em; line-height: 1; border-radius: 0.35em;\">\n",
              "    Blockchain\n",
              "    <span style=\"font-size: 0.8em; font-weight: bold; line-height: 1; border-radius: 0.35em; vertical-align: middle; margin-left: 0.5rem\">BLOCKCHAIN_TECH</span>\n",
              "</mark>\n",
              " technology is revolutionizing \n",
              "<mark class=\"entity\" style=\"background: #ddd; padding: 0.45em 0.6em; margin: 0 0.25em; line-height: 1; border-radius: 0.35em;\">\n",
              "    businesses\n",
              "    <span style=\"font-size: 0.8em; font-weight: bold; line-height: 1; border-radius: 0.35em; vertical-align: middle; margin-left: 0.5rem\">FINANCE</span>\n",
              "</mark>\n",
              " by offering a secure, transparent, and decentralized way to manage and share data and \n",
              "<mark class=\"entity\" style=\"background: #ddd; padding: 0.45em 0.6em; margin: 0 0.25em; line-height: 1; border-radius: 0.35em;\">\n",
              "    transactions\n",
              "    <span style=\"font-size: 0.8em; font-weight: bold; line-height: 1; border-radius: 0.35em; vertical-align: middle; margin-left: 0.5rem\">FINANCE</span>\n",
              "</mark>\n",
              " among multiple parties. Unlike public blockchains (like \n",
              "<mark class=\"entity\" style=\"background: #ddd; padding: 0.45em 0.6em; margin: 0 0.25em; line-height: 1; border-radius: 0.35em;\">\n",
              "    Bitcoin\n",
              "    <span style=\"font-size: 0.8em; font-weight: bold; line-height: 1; border-radius: 0.35em; vertical-align: middle; margin-left: 0.5rem\">BLOCKCHAIN_TECH</span>\n",
              "</mark>\n",
              " or \n",
              "<mark class=\"entity\" style=\"background: #ddd; padding: 0.45em 0.6em; margin: 0 0.25em; line-height: 1; border-radius: 0.35em;\">\n",
              "    Ethereum\n",
              "    <span style=\"font-size: 0.8em; font-weight: bold; line-height: 1; border-radius: 0.35em; vertical-align: middle; margin-left: 0.5rem\">BLOCKCHAIN_TECH</span>\n",
              "</mark>\n",
              "), which are open to anyone, private blockchains are permissioned networks where participants are known entities, usually \n",
              "<mark class=\"entity\" style=\"background: #ddd; padding: 0.45em 0.6em; margin: 0 0.25em; line-height: 1; border-radius: 0.35em;\">\n",
              "    businesses\n",
              "    <span style=\"font-size: 0.8em; font-weight: bold; line-height: 1; border-radius: 0.35em; vertical-align: middle; margin-left: 0.5rem\">FINANCE</span>\n",
              "</mark>\n",
              ", \n",
              "<mark class=\"entity\" style=\"background: #7aecec; padding: 0.45em 0.6em; margin: 0 0.25em; line-height: 1; border-radius: 0.35em;\">\n",
              "    organizations\n",
              "    <span style=\"font-size: 0.8em; font-weight: bold; line-height: 1; border-radius: 0.35em; vertical-align: middle; margin-left: 0.5rem\">ORG</span>\n",
              "</mark>\n",
              ", or stakeholders with a vested interest in collaborating within a specific ecosystem.  Here are some featured Oracle Blockchain sessions at CloudWorld  \n",
              "<mark class=\"entity\" style=\"background: #ddd; padding: 0.45em 0.6em; margin: 0 0.25em; line-height: 1; border-radius: 0.35em;\">\n",
              "    Supply Chain\n",
              "    <span style=\"font-size: 0.8em; font-weight: bold; line-height: 1; border-radius: 0.35em; vertical-align: middle; margin-left: 0.5rem\">FINANCE</span>\n",
              "</mark>\n",
              " Management:   Douglas Johnson-Poensgen, CEO and Oracle Blockchain product leaders, will discuss Circulor experience in track and tracing of required critical mineral required in making of electric vehicle (EV) batteries and other data inputs necessary for the EU Battery Regulation and \n",
              "<mark class=\"entity\" style=\"background: #7aecec; padding: 0.45em 0.6em; margin: 0 0.25em; line-height: 1; border-radius: 0.35em;\">\n",
              "    U.S. Clean Vehicle\n",
              "    <span style=\"font-size: 0.8em; font-weight: bold; line-height: 1; border-radius: 0.35em; vertical-align: middle; margin-left: 0.5rem\">ORG</span>\n",
              "</mark>\n",
              " Tax \n",
              "<mark class=\"entity\" style=\"background: #ddd; padding: 0.45em 0.6em; margin: 0 0.25em; line-height: 1; border-radius: 0.35em;\">\n",
              "    Credit. Circulor’s traceability helps\n",
              "    <span style=\"font-size: 0.8em; font-weight: bold; line-height: 1; border-radius: 0.35em; vertical-align: middle; margin-left: 0.5rem\">FINANCE</span>\n",
              "</mark>\n",
              " auto manufacturers drive improvement by gaining visibility into the supply chain boost recycling efforts to secure supplies and deliver on sustainability goals.  Illuminating Global Electric Vehicle Battery Supply \n",
              "<mark class=\"entity\" style=\"background: #ddd; padding: 0.45em 0.6em; margin: 0 0.25em; line-height: 1; border-radius: 0.35em;\">\n",
              "    Chains\n",
              "    <span style=\"font-size: 0.8em; font-weight: bold; line-height: 1; border-radius: 0.35em; vertical-align: middle; margin-left: 0.5rem\">BLOCKCHAIN_TECH</span>\n",
              "</mark>\n",
              " Using OCI [LRN1893]  Thursday, Sep 21, 10:15 AM - 11:00 AM PDT         Logistics and Transportation:  Join the \n",
              "<mark class=\"entity\" style=\"background: #7aecec; padding: 0.45em 0.6em; margin: 0 0.25em; line-height: 1; border-radius: 0.35em;\">\n",
              "    Volvo Group\n",
              "    <span style=\"font-size: 0.8em; font-weight: bold; line-height: 1; border-radius: 0.35em; vertical-align: middle; margin-left: 0.5rem\">ORG</span>\n",
              "</mark>\n",
              " Logivity CEO and Oracle Blockchain product leaders for an in-depth look at Volvo Group Logivity - driving sustainability and efficiency in the logistics industry through trust and collaboration. Volvo innovations through a \n",
              "<mark class=\"entity\" style=\"background: #ddd; padding: 0.45em 0.6em; margin: 0 0.25em; line-height: 1; border-radius: 0.35em;\">\n",
              "    blockchain-enabled\n",
              "    <span style=\"font-size: 0.8em; font-weight: bold; line-height: 1; border-radius: 0.35em; vertical-align: middle; margin-left: 0.5rem\">BLOCKCHAIN_TECH</span>\n",
              "</mark>\n",
              " trusted ecosystem is delivering Single Source of Truth, data integrity, control, and connectivity across the ecosystem of freight shippers and carriers, driving increased efficiency and sustainability in the logistics industry.  How Oracle Blockchain Platform Advances Innovation [LRN4209] Thursday, Sep 21, 9:00 AM - 9:45 AM PDT  Oracle CEO and Volvo Logivity CEO  Digital Experience:  \n",
              "<mark class=\"entity\" style=\"background: #ddd; padding: 0.45em 0.6em; margin: 0 0.25em; line-height: 1; border-radius: 0.35em;\">\n",
              "    Blockchain's tamper\n",
              "    <span style=\"font-size: 0.8em; font-weight: bold; line-height: 1; border-radius: 0.35em; vertical-align: middle; margin-left: 0.5rem\">BLOCKCHAIN_TECH</span>\n",
              "</mark>\n",
              " resistance and traceability is critical for building trust within enterprise digital experience (DX) business. However, conventional consensus based \n",
              "<mark class=\"entity\" style=\"background: #ddd; padding: 0.45em 0.6em; margin: 0 0.25em; line-height: 1; border-radius: 0.35em;\">\n",
              "    blockchain\n",
              "    <span style=\"font-size: 0.8em; font-weight: bold; line-height: 1; border-radius: 0.35em; vertical-align: middle; margin-left: 0.5rem\">BLOCKCHAIN_TECH</span>\n",
              "</mark>\n",
              " technology often makes it difficult to reach businesses performance targets and Oracle Blockchain table in Oracle Database can be a solution. Join this knowledge sharing session with Oracle experts from Nomura Research Institute and Oracle product leaders for an in-depth look at Oracle Blockchain table for building carbon traceability system.  \n",
              "<mark class=\"entity\" style=\"background: #7aecec; padding: 0.45em 0.6em; margin: 0 0.25em; line-height: 1; border-radius: 0.35em;\">\n",
              "    Oracle\n",
              "    <span style=\"font-size: 0.8em; font-weight: bold; line-height: 1; border-radius: 0.35em; vertical-align: middle; margin-left: 0.5rem\">ORG</span>\n",
              "</mark>\n",
              " Database Blockchain Table Deep Dive - DX Use Case [LRN1422] Thursday, Sep 21, 3:00 PM - 3:45 PM PDT  Evolution of Enterprise Blockchain - What's next:  The journey of \n",
              "<mark class=\"entity\" style=\"background: #ddd; padding: 0.45em 0.6em; margin: 0 0.25em; line-height: 1; border-radius: 0.35em;\">\n",
              "    blockchain\n",
              "    <span style=\"font-size: 0.8em; font-weight: bold; line-height: 1; border-radius: 0.35em; vertical-align: middle; margin-left: 0.5rem\">BLOCKCHAIN_TECH</span>\n",
              "</mark>\n",
              " technology has evolved from its cryptocurrency origins to becoming a transformative tool for \n",
              "<mark class=\"entity\" style=\"background: #ddd; padding: 0.45em 0.6em; margin: 0 0.25em; line-height: 1; border-radius: 0.35em;\">\n",
              "    businesses\n",
              "    <span style=\"font-size: 0.8em; font-weight: bold; line-height: 1; border-radius: 0.35em; vertical-align: middle; margin-left: 0.5rem\">FINANCE</span>\n",
              "</mark>\n",
              " across various industries. The focus has shifted from public blockchains to more private and permissioned solutions tailored to enterprise needs. Join this panel discussion where our customers and Oracle leaders will discuss range of innovative solutions that examine how enterprise blockchains are extending from track-and-trace capabilities on shared ledger to cross-ecosystem transactions to incorporating tokenization of digital assets to NFTs that representing unique assets  to facilitating decentralized identities, and other \n",
              "<mark class=\"entity\" style=\"background: #ddd; padding: 0.45em 0.6em; margin: 0 0.25em; line-height: 1; border-radius: 0.35em;\">\n",
              "    Web3\n",
              "    <span style=\"font-size: 0.8em; font-weight: bold; line-height: 1; border-radius: 0.35em; vertical-align: middle; margin-left: 0.5rem\">BLOCKCHAIN_TECH</span>\n",
              "</mark>\n",
              " capabilities.  Evolving Enterprise Blockchain: from Traceability to \n",
              "<mark class=\"entity\" style=\"background: #ddd; padding: 0.45em 0.6em; margin: 0 0.25em; line-height: 1; border-radius: 0.35em;\">\n",
              "    NFTs\n",
              "    <span style=\"font-size: 0.8em; font-weight: bold; line-height: 1; border-radius: 0.35em; vertical-align: middle; margin-left: 0.5rem\">BLOCKCHAIN_TECH</span>\n",
              "</mark>\n",
              " and Web3 [PAN4150]  Wednesday, Sep 20 8:30 AM - 9:15 AM PDT  Build your first \n",
              "<mark class=\"entity\" style=\"background: #ddd; padding: 0.45em 0.6em; margin: 0 0.25em; line-height: 1; border-radius: 0.35em;\">\n",
              "    Blockchain\n",
              "    <span style=\"font-size: 0.8em; font-weight: bold; line-height: 1; border-radius: 0.35em; vertical-align: middle; margin-left: 0.5rem\">BLOCKCHAIN_TECH</span>\n",
              "</mark>\n",
              " Application with ease using Low-Code Tools:  Wanted to create your blockchain app but couldn't due to percieved complexity of building, testing, deploying of smart contracts or building the REST APIs for invoking the \n",
              "<mark class=\"entity\" style=\"background: #ddd; padding: 0.45em 0.6em; margin: 0 0.25em; line-height: 1; border-radius: 0.35em;\">\n",
              "    smart contracts\n",
              "    <span style=\"font-size: 0.8em; font-weight: bold; line-height: 1; border-radius: 0.35em; vertical-align: middle; margin-left: 0.5rem\">BLOCKCHAIN_TECH</span>\n",
              "</mark>\n",
              " or scaling the network etc? We got you covered, with OCI Blockchain platform cloud service, you can do much more by taking advantage of two low-code tools: APEX for building your application \n",
              "<mark class=\"entity\" style=\"background: #aa9cfc; padding: 0.45em 0.6em; margin: 0 0.25em; line-height: 1; border-radius: 0.35em;\">\n",
              "    user\n",
              "    <span style=\"font-size: 0.8em; font-weight: bold; line-height: 1; border-radius: 0.35em; vertical-align: middle; margin-left: 0.5rem\">PERSON</span>\n",
              "</mark>\n",
              " interface and integrated \n",
              "<mark class=\"entity\" style=\"background: #ddd; padding: 0.45em 0.6em; margin: 0 0.25em; line-height: 1; border-radius: 0.35em;\">\n",
              "    Blockchain\n",
              "    <span style=\"font-size: 0.8em; font-weight: bold; line-height: 1; border-radius: 0.35em; vertical-align: middle; margin-left: 0.5rem\">BLOCKCHAIN_TECH</span>\n",
              "</mark>\n",
              " AppBuilder for smart code / chaincode generation. Join Oracle Blockchain product leaders in this immersive hands-on exercise where you can explore creating your first \n",
              "<mark class=\"entity\" style=\"background: #ddd; padding: 0.45em 0.6em; margin: 0 0.25em; line-height: 1; border-radius: 0.35em;\">\n",
              "    blockchain\n",
              "    <span style=\"font-size: 0.8em; font-weight: bold; line-height: 1; border-radius: 0.35em; vertical-align: middle; margin-left: 0.5rem\">BLOCKCHAIN_TECH</span>\n",
              "</mark>\n",
              " application with ease.  Develop Low-Code Blockchain Applications Using APEX and Blockchain App Builder [HOL2514] Thursday, Sep 21 10:30 AM - 12:00 PM PDT  Conclusion:  Oracle Blockchain Platform offers unique advantages by integrating seamlessly with Oracle services, providing pre-built business templates, ensuring scalability and security, supporting consortium networks, offering identity management, providing monitoring and analytics tools, and enabling hybrid deployment options. Its flexibility, interoperability, and ability to address diverse use cases make it a compelling choice for \n",
              "<mark class=\"entity\" style=\"background: #ddd; padding: 0.45em 0.6em; margin: 0 0.25em; line-height: 1; border-radius: 0.35em;\">\n",
              "    businesses\n",
              "    <span style=\"font-size: 0.8em; font-weight: bold; line-height: 1; border-radius: 0.35em; vertical-align: middle; margin-left: 0.5rem\">FINANCE</span>\n",
              "</mark>\n",
              " looking to leverage blockchain technology.  On behalf of Oracle Blockchain Product Management team, we are excitied and extend you a warm welcome and look forward to seeing you at Oracle CloudWorld 2023.</div></span>"
            ],
            "text/plain": [
              "<IPython.core.display.HTML object>"
            ]
          },
          "metadata": {},
          "output_type": "display_data"
        }
      ],
      "source": [
        "from spacy import displacy\n",
        "test1 = input()\n",
        "doc = nlp_ner(test1)\n",
        "spacy.displacy.render(doc, style = 'ent', jupyter = True)"
      ]
    }
  ],
  "metadata": {
    "colab": {
      "provenance": []
    },
    "kernelspec": {
      "display_name": "Python 3",
      "name": "python3"
    },
    "language_info": {
      "codemirror_mode": {
        "name": "ipython",
        "version": 3
      },
      "file_extension": ".py",
      "mimetype": "text/x-python",
      "name": "python",
      "nbconvert_exporter": "python",
      "pygments_lexer": "ipython3",
      "version": "3.11.5"
    }
  },
  "nbformat": 4,
  "nbformat_minor": 0
}
