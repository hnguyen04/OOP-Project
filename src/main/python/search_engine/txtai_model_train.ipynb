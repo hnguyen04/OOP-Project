{
 "cells": [
  {
   "cell_type": "code",
   "execution_count": 1,
   "metadata": {},
   "outputs": [
    {
     "name": "stderr",
     "output_type": "stream",
     "text": [
      "d:\\Projects\\Python\\OOP-PROJECT-G4\\.conda\\lib\\site-packages\\tqdm\\auto.py:21: TqdmWarning: IProgress not found. Please update jupyter and ipywidgets. See https://ipywidgets.readthedocs.io/en/stable/user_install.html\n",
      "  from .autonotebook import tqdm as notebook_tqdm\n"
     ]
    }
   ],
   "source": [
    "from preprocess import Preprocessor # import các hàng tiền xử lí dữ liệu\n",
    "\n",
    "#thư viện dùng cho đọc file\n",
    "import pandas as pd # type: ignore\n",
    "\n",
    "#thư viện làm việc với mảng\n",
    "import numpy as np # type: ignore\n",
    "\n",
    "#import model \n",
    "from txtai.embeddings import Embeddings\n",
    "from txtai.pipeline import Similarity\n",
    "# Bỏ qua tất cả các cảnh báo\n",
    "import warnings\n",
    "warnings.filterwarnings(\"ignore\")\n",
    "\n",
    "#import logger\n",
    "import logging\n",
    "\n",
    "logging.basicConfig(level=logging.INFO)\n",
    "\n"
   ]
  },
  {
   "cell_type": "code",
   "execution_count": null,
   "metadata": {},
   "outputs": [],
   "source": [
    "#lấy đường dẫn\n",
    "preprocessed_path = \"../../resources/data/preprocessed.csv\"\n",
    "#đọc file csv\n",
    "df = pd.read_csv(preprocessed_path)\n",
    "\n",
    "\n",
    "#đọc thử 5 mẫu dữ liệu đầu tiên\n",
    "df.head()"
   ]
  },
  {
   "cell_type": "code",
   "execution_count": 4,
   "metadata": {},
   "outputs": [
    {
     "data": {
      "text/plain": [
       "0       custodia entitle feed master account judge rul...\n",
       "1       multicoin capital hedge fund grow 9281 2017 in...\n",
       "2       1 kx raise 75 million fund round elizabeth nap...\n",
       "3       cftc commissioner pham agency infringe sec aut...\n",
       "4       bitcoin future reach 38 billion vishal chawlab...\n",
       "                              ...                        \n",
       "8329    binance launch 500 million fund provide loan b...\n",
       "8330    kraken poach geminis head uk run uk operation ...\n",
       "8331    nydig lay 3 staff september wsj kristin majche...\n",
       "8332    propose account rule benefit company hold cryp...\n",
       "8333    decentralize exchange protocol uniswap 3 deplo...\n",
       "Length: 8334, dtype: object"
      ]
     },
     "execution_count": 4,
     "metadata": {},
     "output_type": "execute_result"
    }
   ],
   "source": [
    "data = df[' Article title'].astype(str) + ' '+ df[' Author'].astype(str) + df[' Content'].astype(str) + ' ' +  ' ' + df[' Category'].astype(str) + ' '+ df[' Tags'].astype(str)\n",
    "data.astype(str)\n",
    "data"
   ]
  },
  {
   "cell_type": "code",
   "execution_count": 5,
   "metadata": {},
   "outputs": [],
   "source": [
    "embeddings = Embeddings(path=\"sentence-transformers/all-MiniLM-L6-v2\")"
   ]
  },
  {
   "cell_type": "code",
   "execution_count": 6,
   "metadata": {},
   "outputs": [],
   "source": [
    "embeddings.index(data)"
   ]
  },
  {
   "cell_type": "code",
   "execution_count": 7,
   "metadata": {},
   "outputs": [],
   "source": [
    "embeddings.save('models/embeddings')"
   ]
  }
 ],
 "metadata": {
  "kernelspec": {
   "display_name": "base",
   "language": "python",
   "name": "python3"
  },
  "language_info": {
   "codemirror_mode": {
    "name": "ipython",
    "version": 3
   },
   "file_extension": ".py",
   "mimetype": "text/x-python",
   "name": "python",
   "nbconvert_exporter": "python",
   "pygments_lexer": "ipython3",
   "version": "3.10.14"
  }
 },
 "nbformat": 4,
 "nbformat_minor": 2
}
