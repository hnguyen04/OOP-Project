{
 "cells": [
  {
   "cell_type": "markdown",
   "metadata": {},
   "source": [
    "<h3>Import các thư viện</h3>"
   ]
  },
  {
   "cell_type": "code",
   "execution_count": 1,
   "metadata": {},
   "outputs": [],
   "source": [
    "from preprocess import Preprocessor\n",
    "import pandas as pd # type: ignore\n",
    "from sklearn.feature_extraction.text import TfidfVectorizer # type: ignore\n",
    "import pickle\n",
    "\n",
    "import warnings\n",
    "\n",
    "# Bỏ qua tất cả các cảnh báo\n",
    "warnings.filterwarnings(\"ignore\")\n",
    "\n",
    "import logging\n",
    "\n",
    "logging.basicConfig(format='%(asctime)s : %(levelname)s : %(message)s', level=logging.INFO)\n",
    "\n"
   ]
  },
  {
   "cell_type": "markdown",
   "metadata": {},
   "source": [
    "<h3>Import file CSV</h3>"
   ]
  },
  {
   "cell_type": "code",
   "execution_count": 2,
   "metadata": {},
   "outputs": [
    {
     "data": {
      "text/html": [
       "<div>\n",
       "<style scoped>\n",
       "    .dataframe tbody tr th:only-of-type {\n",
       "        vertical-align: middle;\n",
       "    }\n",
       "\n",
       "    .dataframe tbody tr th {\n",
       "        vertical-align: top;\n",
       "    }\n",
       "\n",
       "    .dataframe thead th {\n",
       "        text-align: right;\n",
       "    }\n",
       "</style>\n",
       "<table border=\"1\" class=\"dataframe\">\n",
       "  <thead>\n",
       "    <tr style=\"text-align: right;\">\n",
       "      <th></th>\n",
       "      <th>Article title</th>\n",
       "      <th>Content</th>\n",
       "      <th>Creation date</th>\n",
       "      <th>Author</th>\n",
       "      <th>Category</th>\n",
       "      <th>Tags</th>\n",
       "      <th>Unnamed: 10</th>\n",
       "      <th>Unnamed: 11</th>\n",
       "      <th>content length</th>\n",
       "    </tr>\n",
       "  </thead>\n",
       "  <tbody>\n",
       "    <tr>\n",
       "      <th>0</th>\n",
       "      <td>understand bitcoin utxo management impact tran...</td>\n",
       "      <td>bitcoins design contain unique handle transact...</td>\n",
       "      <td>2024-05-16</td>\n",
       "      <td>liam akiba wright</td>\n",
       "      <td>news</td>\n",
       "      <td>bitcoin analysis crypto feature</td>\n",
       "      <td>NaN</td>\n",
       "      <td>NaN</td>\n",
       "      <td>6458.0</td>\n",
       "    </tr>\n",
       "    <tr>\n",
       "      <th>1</th>\n",
       "      <td>hackatron season 6 submission period conclude ...</td>\n",
       "      <td>geneva switzerland 16 2024 tron dao proudly an...</td>\n",
       "      <td>2024-05-16</td>\n",
       "      <td>unknown</td>\n",
       "      <td>news</td>\n",
       "      <td>tron event feature partnership sponsor</td>\n",
       "      <td>NaN</td>\n",
       "      <td>NaN</td>\n",
       "      <td>8824.0</td>\n",
       "    </tr>\n",
       "    <tr>\n",
       "      <th>2</th>\n",
       "      <td>tornado cash developer challenge conviction du...</td>\n",
       "      <td>tornado cash developer alexey pertsev reported...</td>\n",
       "      <td>2024-05-16</td>\n",
       "      <td>oluwapelumi adejumo</td>\n",
       "      <td>news</td>\n",
       "      <td>netherlands legal privacy</td>\n",
       "      <td>NaN</td>\n",
       "      <td>NaN</td>\n",
       "      <td>4998.0</td>\n",
       "    </tr>\n",
       "    <tr>\n",
       "      <th>3</th>\n",
       "      <td>vanguard ceo uphold firm stance bitcoin etfs d...</td>\n",
       "      <td>vanguard newly appoint ceo salim ramji scuttle...</td>\n",
       "      <td>2024-05-16</td>\n",
       "      <td>oluwapelumi adejumo</td>\n",
       "      <td>news</td>\n",
       "      <td>bitcoin blackrock crypto etf</td>\n",
       "      <td>NaN</td>\n",
       "      <td>NaN</td>\n",
       "      <td>5679.0</td>\n",
       "    </tr>\n",
       "    <tr>\n",
       "      <th>4</th>\n",
       "      <td>boost female leadership crypto quota proactive...</td>\n",
       "      <td>april 24 woman crypto board series london brin...</td>\n",
       "      <td>2024-05-16</td>\n",
       "      <td>liam akiba wright</td>\n",
       "      <td>news</td>\n",
       "      <td>adoption culture feature</td>\n",
       "      <td>NaN</td>\n",
       "      <td>NaN</td>\n",
       "      <td>7515.0</td>\n",
       "    </tr>\n",
       "  </tbody>\n",
       "</table>\n",
       "</div>"
      ],
      "text/plain": [
       "                                       Article title  \\\n",
       "0  understand bitcoin utxo management impact tran...   \n",
       "1  hackatron season 6 submission period conclude ...   \n",
       "2  tornado cash developer challenge conviction du...   \n",
       "3  vanguard ceo uphold firm stance bitcoin etfs d...   \n",
       "4  boost female leadership crypto quota proactive...   \n",
       "\n",
       "                                             Content  Creation date  \\\n",
       "0  bitcoins design contain unique handle transact...     2024-05-16   \n",
       "1  geneva switzerland 16 2024 tron dao proudly an...     2024-05-16   \n",
       "2  tornado cash developer alexey pertsev reported...     2024-05-16   \n",
       "3  vanguard newly appoint ceo salim ramji scuttle...     2024-05-16   \n",
       "4  april 24 woman crypto board series london brin...     2024-05-16   \n",
       "\n",
       "                Author  Category                                    Tags  \\\n",
       "0    liam akiba wright      news         bitcoin analysis crypto feature   \n",
       "1              unknown      news  tron event feature partnership sponsor   \n",
       "2  oluwapelumi adejumo      news               netherlands legal privacy   \n",
       "3  oluwapelumi adejumo      news            bitcoin blackrock crypto etf   \n",
       "4    liam akiba wright      news                adoption culture feature   \n",
       "\n",
       "  Unnamed: 10 Unnamed: 11   content length  \n",
       "0         NaN         NaN           6458.0  \n",
       "1         NaN         NaN           8824.0  \n",
       "2         NaN         NaN           4998.0  \n",
       "3         NaN         NaN           5679.0  \n",
       "4         NaN         NaN           7515.0  "
      ]
     },
     "execution_count": 2,
     "metadata": {},
     "output_type": "execute_result"
    }
   ],
   "source": [
    "relative_path = \"../../resources/data/preprocessed_data.csv\"\n",
    "\n",
    "df = pd.read_csv(relative_path)\n",
    "\n",
    "df.head()"
   ]
  },
  {
   "cell_type": "markdown",
   "metadata": {},
   "source": [
    "<h3>Đánh trọng số cho từng cột</h3>"
   ]
  },
  {
   "cell_type": "code",
   "execution_count": 3,
   "metadata": {},
   "outputs": [],
   "source": [
    "column_weights = {\n",
    "    ' Author': 1,\n",
    "    ' Content': 1,\n",
    "    ' Category': 1,\n",
    "    ' Article title': 3\n",
    "}"
   ]
  },
  {
   "cell_type": "markdown",
   "metadata": {},
   "source": [
    "<h3>Khởi tạo tfidf vectorizer</h3>"
   ]
  },
  {
   "cell_type": "code",
   "execution_count": 4,
   "metadata": {},
   "outputs": [],
   "source": [
    "vectorizer = TfidfVectorizer(stop_words='english')\n",
    "\n",
    "data = \"\"\n",
    "for column, weight in column_weights.items():\n",
    "    for i in range(weight):\n",
    "        data += df[column].astype(str) + \" \" # data += cột * trọng số (mỗi cột i xuất hiện weight_i lần)\n",
    "\n",
    "tfidf_matrix = vectorizer.fit_transform(data)\n"
   ]
  },
  {
   "cell_type": "markdown",
   "metadata": {},
   "source": [
    "<h3>Lưu model</h3>"
   ]
  },
  {
   "cell_type": "code",
   "execution_count": 5,
   "metadata": {},
   "outputs": [],
   "source": [
    "pickle.dump(tfidf_matrix, open(\"models/tfidf/tfidf_matrix.sav\", 'wb'))\n",
    "pickle.dump(vectorizer, open(\"models/tfidf/vectorizer.sav\", \"wb\"))\n"
   ]
  },
  {
   "cell_type": "code",
   "execution_count": 10,
   "metadata": {},
   "outputs": [],
   "source": [
    "title_vectorizer = TfidfVectorizer(stop_words='english')\n",
    "\n",
    "data = df[' Article title'].astype(str)\n",
    "title_tfidf_matrix = title_vectorizer.fit_transform(data)\n"
   ]
  },
  {
   "cell_type": "code",
   "execution_count": 11,
   "metadata": {},
   "outputs": [],
   "source": [
    "pickle.dump(title_tfidf_matrix, open(\"models/tfidf/title_tfidf_matrix.sav\", 'wb'))\n",
    "pickle.dump(title_vectorizer, open(\"models/tfidf/title_vectorizer.sav\", \"wb\"))\n"
   ]
  }
 ],
 "metadata": {
  "kernelspec": {
   "display_name": "base",
   "language": "python",
   "name": "python3"
  },
  "language_info": {
   "codemirror_mode": {
    "name": "ipython",
    "version": 3
   },
   "file_extension": ".py",
   "mimetype": "text/x-python",
   "name": "python",
   "nbconvert_exporter": "python",
   "pygments_lexer": "ipython3",
   "version": "3.10.14"
  }
 },
 "nbformat": 4,
 "nbformat_minor": 2
}
