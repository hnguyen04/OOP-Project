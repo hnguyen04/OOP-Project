{
 "cells": [
  {
   "cell_type": "markdown",
   "metadata": {},
   "source": [
    "<h3>Import các thư viện</h3>"
   ]
  },
  {
   "cell_type": "code",
   "execution_count": 1,
   "metadata": {},
   "outputs": [],
   "source": [
    "from preprocess import Preprocessor\n",
    "import pandas as pd # type: ignore\n",
    "from sklearn.feature_extraction.text import TfidfVectorizer # type: ignore\n",
    "import pickle\n",
    "\n",
    "import warnings\n",
    "\n",
    "# Bỏ qua tất cả các cảnh báo\n",
    "warnings.filterwarnings(\"ignore\")\n",
    "\n",
    "import logging\n",
    "\n",
    "logging.basicConfig(format='%(asctime)s : %(levelname)s : %(message)s', level=logging.INFO)\n",
    "\n"
   ]
  },
  {
   "cell_type": "markdown",
   "metadata": {},
   "source": [
    "<h3>Import file CSV</h3>"
   ]
  },
  {
   "cell_type": "code",
   "execution_count": 2,
   "metadata": {},
   "outputs": [
    {
     "data": {
      "text/html": [
       "<div>\n",
       "<style scoped>\n",
       "    .dataframe tbody tr th:only-of-type {\n",
       "        vertical-align: middle;\n",
       "    }\n",
       "\n",
       "    .dataframe tbody tr th {\n",
       "        vertical-align: top;\n",
       "    }\n",
       "\n",
       "    .dataframe thead th {\n",
       "        text-align: right;\n",
       "    }\n",
       "</style>\n",
       "<table border=\"1\" class=\"dataframe\">\n",
       "  <thead>\n",
       "    <tr style=\"text-align: right;\">\n",
       "      <th></th>\n",
       "      <th>Article title</th>\n",
       "      <th>Content</th>\n",
       "      <th>Creation date</th>\n",
       "      <th>Author</th>\n",
       "      <th>Category</th>\n",
       "      <th>Tags</th>\n",
       "      <th>Unnamed: 10</th>\n",
       "      <th>Unnamed: 11</th>\n",
       "    </tr>\n",
       "  </thead>\n",
       "  <tbody>\n",
       "    <tr>\n",
       "      <th>0</th>\n",
       "      <td>block researchâs analyst 2023 prediction</td>\n",
       "      <td>consensus prediction overall macro environment...</td>\n",
       "      <td>NaN</td>\n",
       "      <td>NaN</td>\n",
       "      <td>NaN</td>\n",
       "      <td>NaN</td>\n",
       "      <td>NaN</td>\n",
       "      <td>NaN</td>\n",
       "    </tr>\n",
       "    <tr>\n",
       "      <th>1</th>\n",
       "      <td>rise metaverse economy top 10 change future</td>\n",
       "      <td>metaverse term refer virtual universe collecti...</td>\n",
       "      <td>NaN</td>\n",
       "      <td>diana ambolis</td>\n",
       "      <td>NaN</td>\n",
       "      <td>NaN</td>\n",
       "      <td>NaN</td>\n",
       "      <td>NaN</td>\n",
       "    </tr>\n",
       "    <tr>\n",
       "      <th>2</th>\n",
       "      <td>blockchain metaverse revolutionize tourism</td>\n",
       "      <td>blockchain decentralize digital ledger technol...</td>\n",
       "      <td>NaN</td>\n",
       "      <td>diana ambolis</td>\n",
       "      <td>NaN</td>\n",
       "      <td>NaN</td>\n",
       "      <td>NaN</td>\n",
       "      <td>NaN</td>\n",
       "    </tr>\n",
       "    <tr>\n",
       "      <th>3</th>\n",
       "      <td>protect yourself fraud metaverse type fraud me...</td>\n",
       "      <td>concept metaverse gain significant attention p...</td>\n",
       "      <td>NaN</td>\n",
       "      <td>diana ambolis</td>\n",
       "      <td>NaN</td>\n",
       "      <td>NaN</td>\n",
       "      <td>NaN</td>\n",
       "      <td>NaN</td>\n",
       "    </tr>\n",
       "    <tr>\n",
       "      <th>4</th>\n",
       "      <td>blockchain technology explain decentralize eco...</td>\n",
       "      <td>blockchain technology slowly take digital worl...</td>\n",
       "      <td>2021-07-30</td>\n",
       "      <td>hasib anwar</td>\n",
       "      <td>guide</td>\n",
       "      <td>NaN</td>\n",
       "      <td>NaN</td>\n",
       "      <td>NaN</td>\n",
       "    </tr>\n",
       "  </tbody>\n",
       "</table>\n",
       "</div>"
      ],
      "text/plain": [
       "                                       Article title  \\\n",
       "0           block researchâs analyst 2023 prediction   \n",
       "1        rise metaverse economy top 10 change future   \n",
       "2         blockchain metaverse revolutionize tourism   \n",
       "3  protect yourself fraud metaverse type fraud me...   \n",
       "4  blockchain technology explain decentralize eco...   \n",
       "\n",
       "                                             Content  Creation date  \\\n",
       "0  consensus prediction overall macro environment...            NaN   \n",
       "1  metaverse term refer virtual universe collecti...            NaN   \n",
       "2  blockchain decentralize digital ledger technol...            NaN   \n",
       "3  concept metaverse gain significant attention p...            NaN   \n",
       "4  blockchain technology slowly take digital worl...     2021-07-30   \n",
       "\n",
       "          Author  Category  Tags  Unnamed: 10  Unnamed: 11  \n",
       "0            NaN       NaN   NaN          NaN          NaN  \n",
       "1  diana ambolis       NaN   NaN          NaN          NaN  \n",
       "2  diana ambolis       NaN   NaN          NaN          NaN  \n",
       "3  diana ambolis       NaN   NaN          NaN          NaN  \n",
       "4    hasib anwar     guide   NaN          NaN          NaN  "
      ]
     },
     "execution_count": 2,
     "metadata": {},
     "output_type": "execute_result"
    }
   ],
   "source": [
    "relative_path = \"../../resources/data/preprocessed.csv\"\n",
    "\n",
    "df = pd.read_csv(relative_path)\n",
    "\n",
    "df.head()"
   ]
  },
  {
   "cell_type": "markdown",
   "metadata": {},
   "source": [
    "<h3>Đánh trọng số cho từng cột</h3>"
   ]
  },
  {
   "cell_type": "code",
   "execution_count": 3,
   "metadata": {},
   "outputs": [],
   "source": [
    "column_weights = {\n",
    "    ' Author': 1,\n",
    "    ' Content': 1,\n",
    "    ' Category': 1,\n",
    "    ' Article title': 3\n",
    "}"
   ]
  },
  {
   "cell_type": "markdown",
   "metadata": {},
   "source": [
    "<h3>Khởi tạo tfidf vectorizer</h3>"
   ]
  },
  {
   "cell_type": "code",
   "execution_count": 4,
   "metadata": {},
   "outputs": [],
   "source": [
    "vectorizer = TfidfVectorizer(stop_words='english')\n",
    "\n",
    "data = \"\"\n",
    "for column, weight in column_weights.items():\n",
    "    for i in range(weight):\n",
    "        data += df[column].astype(str) + \" \" # data += cột * trọng số (mỗi cột i xuất hiện weight_i lần)\n",
    "\n",
    "tfidf_matrix = vectorizer.fit_transform(data)\n"
   ]
  },
  {
   "cell_type": "markdown",
   "metadata": {},
   "source": [
    "<h3>Lưu model</h3>"
   ]
  },
  {
   "cell_type": "code",
   "execution_count": null,
   "metadata": {},
   "outputs": [],
   "source": [
    "pickle.dump(tfidf_matrix, open(\"models/tfidf/tfidf_matrix.sav\", 'wb'))\n",
    "pickle.dump(vectorizer, open(\"models/tfidf/vectorizer.sav\", \"wb\"))\n"
   ]
  },
  {
   "cell_type": "code",
   "execution_count": null,
   "metadata": {},
   "outputs": [],
   "source": [
    "title_vectorizer = TfidfVectorizer(stop_words='english')\n",
    "\n",
    "data = df[' Article title'].astype(str)\n",
    "title_tfidf_matrix = title_vectorizer.fit_transform(data)\n"
   ]
  },
  {
   "cell_type": "code",
   "execution_count": null,
   "metadata": {},
   "outputs": [],
   "source": [
    "pickle.dump(title_tfidf_matrix, open(\"models/tfidf/title_tfidf_matrix.sav\", 'wb'))\n",
    "pickle.dump(title_vectorizer, open(\"models/tfidf/title_vectorizer.sav\", \"wb\"))\n"
   ]
  }
 ],
 "metadata": {
  "kernelspec": {
   "display_name": "base",
   "language": "python",
   "name": "python3"
  },
  "language_info": {
   "codemirror_mode": {
    "name": "ipython",
    "version": 3
   },
   "file_extension": ".py",
   "mimetype": "text/x-python",
   "name": "python",
   "nbconvert_exporter": "python",
   "pygments_lexer": "ipython3",
   "version": "3.10.14"
  }
 },
 "nbformat": 4,
 "nbformat_minor": 2
}
